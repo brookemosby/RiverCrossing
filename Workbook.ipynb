{
 "cells": [
  {
   "cell_type": "code",
   "execution_count": 2,
   "metadata": {},
   "outputs": [],
   "source": [
    "import numpy as np\n",
    "from scipy.optimize import root\n",
    "from scipy.interpolate import barycentric_interpolate as bi"
   ]
  },
  {
   "cell_type": "code",
   "execution_count": 3,
   "metadata": {},
   "outputs": [],
   "source": [
    "#Brookes code from river crossing lab\n",
    "def L(y, y_prime,x):\n",
    "    alpha = lambda x:(1-c(x)**2)**-.5\n",
    "    return alpha(x)*np.sqrt(1+(alpha(x)*y_prime(x))**2) -(alpha(x)**2*c(x)*y_prime(x))\n",
    "def T(y,y_prime,x):\n",
    "    L_val=L(y,y_prime,x)\n",
    "    h = x[1]-x[0]\n",
    "    return h*sum(L_val)\n",
    "def cheb(N):\n",
    "    x = np.cos((np.pi/N)*np.linspace(0,N,N+1))\n",
    "    x.shape = (N+1,1)\n",
    "    lin = np.linspace(0,N,N+1)\n",
    "    lin.shape = (N+1,1)\n",
    "    c = np.ones((N+1,1))\n",
    "    c[0], c[-1] = 2., 2.\n",
    "    c = c*(-1.)**lin\n",
    "    X = x*np.ones(N+1) # broadcast along 2nd dimension (columns)\n",
    "    dX = X - X.T\n",
    "    D = (c*(1./c).T)/(dX + np.eye(N+1))\n",
    "    D = D - np.diag(np.sum(D.T,axis=0))\n",
    "    x.shape = (N+1,)\n",
    "    # Here we return the differentiation matrix and the Chebyshev points,\n",
    "    # numbered from x_0 = 1 to x_N = -1\n",
    "    return D, x"
   ]
  },
  {
   "cell_type": "code",
   "execution_count": null,
   "metadata": {},
   "outputs": [],
   "source": []
  }
 ],
 "metadata": {
  "kernelspec": {
   "display_name": "Python 3",
   "language": "python",
   "name": "python3"
  },
  "language_info": {
   "codemirror_mode": {
    "name": "ipython",
    "version": 3
   },
   "file_extension": ".py",
   "mimetype": "text/x-python",
   "name": "python",
   "nbconvert_exporter": "python",
   "pygments_lexer": "ipython3",
   "version": "3.6.4"
  }
 },
 "nbformat": 4,
 "nbformat_minor": 2
}
